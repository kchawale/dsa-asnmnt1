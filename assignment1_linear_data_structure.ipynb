{
  "nbformat": 4,
  "nbformat_minor": 0,
  "metadata": {
    "colab": {
      "provenance": [],
      "authorship_tag": "ABX9TyMRafUyzNGJoTugtZcOWjFf",
      "include_colab_link": true
    },
    "kernelspec": {
      "name": "python3",
      "display_name": "Python 3"
    },
    "language_info": {
      "name": "python"
    }
  },
  "cells": [
    {
      "cell_type": "markdown",
      "metadata": {
        "id": "view-in-github",
        "colab_type": "text"
      },
      "source": [
        "<a href=\"https://colab.research.google.com/github/kchawale/dsa-asnmnt1/blob/main/assignment1_linear_data_structure.ipynb\" target=\"_parent\"><img src=\"https://colab.research.google.com/assets/colab-badge.svg\" alt=\"Open In Colab\"/></a>"
      ]
    },
    {
      "cell_type": "code",
      "execution_count": 1,
      "metadata": {
        "colab": {
          "base_uri": "https://localhost:8080/"
        },
        "id": "78ch5XfsXqO1",
        "outputId": "3c2bfe56-26e4-4d0a-8241-912bb9028f03"
      },
      "outputs": [
        {
          "output_type": "stream",
          "name": "stdout",
          "text": [
            "(1, 4)\n",
            "(1, 4)\n",
            "(6, -1)\n"
          ]
        }
      ],
      "source": [
        "# Write a program to find all pairs of an integer array whose sum is equal to a given number?\n",
        "\n",
        "def Pairs(arr, n, sum):\n",
        "   for i in range(0, n ):\n",
        "        for j in range(i + 1, n ):\n",
        "            if (arr[i] + arr[j] == sum):\n",
        "                print(\"(\", arr[i],\n",
        "                      \", \", arr[j],\n",
        "                      \")\", sep = \"\")\n",
        " \n",
        " \n",
        "\n",
        "arr = [1, 4, 6, -1, 4]\n",
        "n = len(arr)\n",
        "sum = 5\n",
        "Pairs(arr, n, sum)\n",
        " "
      ]
    },
    {
      "cell_type": "code",
      "source": [
        "#Write a program to reverse an array in place? In place means you cannot create a new array. You have to update the original array.\n",
        "\n",
        "def reverse(A, start, end):\n",
        "    if start >= end:\n",
        "        return\n",
        "    A[start], A[end] = A[end], A[start]\n",
        "    reverse(A, start+1, end-1)\n",
        " \n",
        "\n",
        "A = [1, 2, 3, 4, 5, 6]\n",
        "print(A)\n",
        "reverse(A, 0, 5)\n",
        "print(\"Reversed arr is\")\n",
        "print(A)"
      ],
      "metadata": {
        "colab": {
          "base_uri": "https://localhost:8080/"
        },
        "id": "MKBU-861ZbLq",
        "outputId": "36f0c252-d1a0-4c7e-94e3-037c97cde1fd"
      },
      "execution_count": 2,
      "outputs": [
        {
          "output_type": "stream",
          "name": "stdout",
          "text": [
            "[1, 2, 3, 4, 5, 6]\n",
            "Reversed arr is\n",
            "[6, 5, 4, 3, 2, 1]\n"
          ]
        }
      ]
    },
    {
      "cell_type": "code",
      "source": [
        "arr = [11, 22, 33, 44, 55]\n",
        "print(\"Array is :\",arr)\n",
        " \n",
        "res = arr[::-1] \n",
        "print(\"reversed array:\",res)"
      ],
      "metadata": {
        "colab": {
          "base_uri": "https://localhost:8080/"
        },
        "id": "JmmdgkmvawyQ",
        "outputId": "b1ba1557-c0c5-496c-bd86-d8f81b0c4961"
      },
      "execution_count": 4,
      "outputs": [
        {
          "output_type": "stream",
          "name": "stdout",
          "text": [
            "Array is : [11, 22, 33, 44, 55]\n",
            "reversed array: [55, 44, 33, 22, 11]\n"
          ]
        }
      ]
    },
    {
      "cell_type": "code",
      "source": [
        "#Write a program to check if two strings are a rotation of each other?\n",
        "\n",
        "def checkString(a, b, indexFound, Size):\n",
        "    for i in range(Size):\n",
        "        if(a[i] != b[(indexFound + i) % Size]):\n",
        "            return False\n",
        "        else:\n",
        "            return True\n",
        " \n",
        "a = \"abcd\"\n",
        "b = \"cdab\"\n",
        " \n",
        "if(len(a) != len(b)):\n",
        "    print(\"b is not a rotation on a\")\n",
        " \n",
        "else:\n",
        " \n",
        "    indexes = []  \n",
        "    Size = len(a)\n",
        "    firstChar = a[0]\n",
        "    for i in range(Size):\n",
        "        if(b[i] == firstChar):\n",
        "            indexes.append(i)\n",
        " \n",
        "    isRotation = False\n",
        "    for idx in indexes:\n",
        " \n",
        "        isRotation = checkString(a, b, idx, Size)\n",
        " \n",
        "        if(isRotation):\n",
        "            break\n",
        " \n",
        "    if(isRotation):\n",
        "        print(\"Strings are rotations of each other\")\n",
        "    else:\n",
        "        print(\"Strings are not rotations of each other\")\n",
        " "
      ],
      "metadata": {
        "colab": {
          "base_uri": "https://localhost:8080/"
        },
        "id": "j-zPMtRcbGSc",
        "outputId": "6b3ac4e4-2416-490d-ba7e-ca673d69b857"
      },
      "execution_count": 6,
      "outputs": [
        {
          "output_type": "stream",
          "name": "stdout",
          "text": [
            "Strings are rotations of each other\n"
          ]
        }
      ]
    },
    {
      "cell_type": "code",
      "source": [
        "# Write a program to print the first non-repeated character from a string?\n",
        "\n",
        "string = \"edyodadigitaluniversity\"\n",
        "index = -1\n",
        "fnc = \"\"\n",
        "for i in string:\n",
        "    if string.count(i) == 1:\n",
        "        fnc += i\n",
        "        break\n",
        "    else:\n",
        "        index += 1\n",
        "if index == 1:\n",
        "    print(\"Either all characters are repeating or string is empty\")\n",
        "else:\n",
        "    print(\"First non-repeating character is\", fnc)"
      ],
      "metadata": {
        "colab": {
          "base_uri": "https://localhost:8080/"
        },
        "id": "6ojleegkcZWq",
        "outputId": "7e47b94d-9f08-4fed-fb7d-498dc94a3d05"
      },
      "execution_count": 7,
      "outputs": [
        {
          "output_type": "stream",
          "name": "stdout",
          "text": [
            "First non-repeating character is o\n"
          ]
        }
      ]
    },
    {
      "cell_type": "code",
      "source": [
        "#  Read about the Tower of Hanoi algorithm. Write a program to implement it.\n",
        "\n",
        "def TowerOfHanoi(n, from_rod, to_rod, aux_rod):\n",
        "    if n == 0:\n",
        "        return\n",
        "    TowerOfHanoi(n-1, from_rod, aux_rod, to_rod)\n",
        "    print(\"Move disk\", n, \"from rod\", from_rod, \"to rod\", to_rod)\n",
        "    TowerOfHanoi(n-1, aux_rod, to_rod, from_rod)\n",
        " \n",
        "N = 3\n",
        "TowerOfHanoi(N, 'A', 'C', 'B')\n",
        " "
      ],
      "metadata": {
        "colab": {
          "base_uri": "https://localhost:8080/"
        },
        "id": "jrmdvGWYc46Z",
        "outputId": "9b40bbd4-d652-4648-d526-9b2c7f88102d"
      },
      "execution_count": 12,
      "outputs": [
        {
          "output_type": "stream",
          "name": "stdout",
          "text": [
            "Move disk 1 from rod A to rod C\n",
            "Move disk 2 from rod A to rod B\n",
            "Move disk 1 from rod C to rod B\n",
            "Move disk 3 from rod A to rod C\n",
            "Move disk 1 from rod B to rod A\n",
            "Move disk 2 from rod B to rod C\n",
            "Move disk 1 from rod A to rod C\n"
          ]
        }
      ]
    },
    {
      "cell_type": "code",
      "source": [
        "#   Read about infix, prefix, and postfix expressions. Write a program to convert postfix to prefix expression\n",
        "\n",
        "\n",
        "s = \"*-Z/WY-/RST\"\n",
        "stack = []\n",
        " \n",
        "operators = set(['+', '-', '*', '/', '^'])\n",
        "s = s[::-1]\n",
        " \n",
        "for i in s:\n",
        " \n",
        "    if i in operators:\n",
        "\n",
        "        a = stack.pop()\n",
        "        b = stack.pop()\n",
        "        temp = a+b+i\n",
        "        stack.append(temp)\n",
        " \n",
        "    else:\n",
        "        stack.append(i)\n",
        " \n",
        "print(*stack)"
      ],
      "metadata": {
        "colab": {
          "base_uri": "https://localhost:8080/"
        },
        "id": "EDfd4XKMd7Eb",
        "outputId": "48145564-1f74-473c-f266-e7ab40ac4af2"
      },
      "execution_count": 14,
      "outputs": [
        {
          "output_type": "stream",
          "name": "stdout",
          "text": [
            "ZWY/-RS/T-*\n"
          ]
        }
      ]
    },
    {
      "cell_type": "code",
      "source": [
        "#  Write a program to convert prefix expression to infix expression.\n",
        "\n",
        "\n",
        "def prefixToInfix(prefix):\n",
        "    stack = []\n",
        "     \n",
        "    i = len(prefix) - 1\n",
        "    while i >= 0:\n",
        "        if not isOperator(prefix[i]):\n",
        "            stack.append(prefix[i])\n",
        "            i -= 1\n",
        "        else:\n",
        "            str = \"(\" + stack.pop() + prefix[i] + stack.pop() + \")\"\n",
        "            stack.append(str)\n",
        "            i -= 1\n",
        "    return stack.pop()\n",
        " \n",
        "def isOperator(c):\n",
        "    if c == \"*\" or c == \"+\" or c == \"-\" or c == \"/\" or c == \"^\" or c == \"(\" or c == \")\":\n",
        "        return True\n",
        "    else:\n",
        "        return False\n",
        " \n",
        "if __name__==\"__main__\":\n",
        "    str = \"*-A/BC-/AKL\"\n",
        "    print(prefixToInfix(str))"
      ],
      "metadata": {
        "colab": {
          "base_uri": "https://localhost:8080/"
        },
        "id": "E3wVF8IQfLeV",
        "outputId": "a72b98f2-2471-4162-f86e-8af332f97b4c"
      },
      "execution_count": 15,
      "outputs": [
        {
          "output_type": "stream",
          "name": "stdout",
          "text": [
            "((A-(B/C))*((A/K)-L))\n"
          ]
        }
      ]
    },
    {
      "cell_type": "code",
      "source": [
        "#  Write a program to check if all the brackets are closed in a given code snippet.\n",
        "\n",
        "\n",
        "def areBracketsclosed(expr):\n",
        "    stack = []\n",
        " \n",
        "    for char in expr:\n",
        "        if char in [\"(\", \"{\", \"[\"]:\n",
        "             stack.append(char)\n",
        "        else:\n",
        "            if not stack:\n",
        "                  return False\n",
        "            current_char = stack.pop()\n",
        "            if current_char == '(':\n",
        "                if char != \")\":\n",
        "                    return False\n",
        "            if current_char == '{':\n",
        "                if char != \"}\":\n",
        "                    return False\n",
        "            if current_char == '[':\n",
        "                if char != \"]\":\n",
        "                    return False\n",
        "\n",
        "    if stack:\n",
        "        return False\n",
        "    return True\n",
        " \n",
        "if __name__ == \"__main__\":\n",
        "    expr = \"{()}[]\"\n",
        "\n",
        "    if areBracketsclosed(expr):\n",
        "        print(\"closed\")\n",
        "    else:\n",
        "        print(\"Not closed\")"
      ],
      "metadata": {
        "colab": {
          "base_uri": "https://localhost:8080/"
        },
        "id": "wzTy68Azf1CH",
        "outputId": "bc109e68-0c83-4594-e9a5-87330419fa9a"
      },
      "execution_count": 18,
      "outputs": [
        {
          "output_type": "stream",
          "name": "stdout",
          "text": [
            "closed\n"
          ]
        }
      ]
    },
    {
      "cell_type": "code",
      "source": [
        "#reverse a stack\n",
        "\n",
        "def insertAtBottom(stack, item):\n",
        "    if isEmpty(stack):\n",
        "        push(stack, item)\n",
        "    else:\n",
        "        temp = pop(stack)\n",
        "        insertAtBottom(stack, item)\n",
        "        push(stack, temp)\n",
        " \n",
        "def reverse(stack):\n",
        "    if not isEmpty(stack):\n",
        "        temp = pop(stack)\n",
        "        reverse(stack)\n",
        "        insertAtBottom(stack, temp)\n",
        "\n",
        "def createStack():\n",
        "    stack = []\n",
        "    return stack\n",
        "\n",
        "def isEmpty( stack ):\n",
        "    return len(stack) == 0\n",
        "\n",
        "def push( stack, item ):\n",
        "    stack.append( item )\n",
        "\n",
        "def pop( stack ):\n",
        "\n",
        "    if(isEmpty( stack )):\n",
        "        print(\"Stack Underflow \")\n",
        "        exit(1)\n",
        " \n",
        "    return stack.pop()\n",
        "\n",
        "def prints(stack):\n",
        "    for i in range(len(stack)-1, -1, -1):\n",
        "        print(stack[i], end = ' ')\n",
        "    print()"
      ],
      "metadata": {
        "id": "6n0Vzf5ejM4a"
      },
      "execution_count": 22,
      "outputs": []
    },
    {
      "cell_type": "code",
      "source": [
        "def reverse_stack(stack):\n",
        "    stack.reverse()\n",
        "    "
      ],
      "metadata": {
        "id": "UeSkHc3okKAZ"
      },
      "execution_count": 24,
      "outputs": []
    },
    {
      "cell_type": "code",
      "source": [
        "stack = [1, 2, 3]\n",
        "reverse_stack(stack)\n",
        "stack"
      ],
      "metadata": {
        "colab": {
          "base_uri": "https://localhost:8080/"
        },
        "id": "8YS56F2hkSIc",
        "outputId": "ff8e486d-30eb-4f6e-9c3b-047659acea51"
      },
      "execution_count": 26,
      "outputs": [
        {
          "output_type": "execute_result",
          "data": {
            "text/plain": [
              "[3, 2, 1]"
            ]
          },
          "metadata": {},
          "execution_count": 26
        }
      ]
    },
    {
      "cell_type": "code",
      "source": [
        "#  Write a program to find the smallest number using a stack.\n",
        "\n",
        "\n",
        "\n",
        "class Node:\n",
        "    # Constructor which assign argument to nade's value\n",
        "    def __init__(self, value):\n",
        "        self.value = value\n",
        "        self.next = None\n",
        " \n",
        "    # This method returns the string representation of the object.\n",
        "    def __str__(self):\n",
        "        return \"Node({})\".format(self.value)\n",
        " \n",
        "    # __repr__ is same as __str__\n",
        "    __repr__ = __str__\n",
        " \n",
        " \n",
        "class stack:\n",
        "    def __init__(self):\n",
        "        self.top = None\n",
        "        self.count = 0\n",
        "        self.minimum = None\n",
        "\n",
        "    def __str__(self):\n",
        "        temp = self.top\n",
        "        out = []\n",
        "        while temp:\n",
        "            out.append(str(temp.value))\n",
        "            temp = temp.next\n",
        "        out = '\\n'.join(out)\n",
        "        return ('Top {} \\n\\nStack :\\n{}'.format(self.top, out))\n",
        " \n",
        "    __repr__ = __str__\n",
        "\n",
        "    def getMin(self):\n",
        "        if self.top is None:\n",
        "            return \"Stack is empty\"\n",
        "        else:\n",
        "            print(\"Minimum Element in the stack is: {}\" .format(self.minimum))\n",
        "    def push(self, value):\n",
        "        if self.top is None:\n",
        "            self.top = Node(value)\n",
        "            self.minimum = value\n",
        " \n",
        "        elif value < self.minimum:\n",
        "            temp = (2 * value) - self.minimum\n",
        "            new_node = Node(temp)\n",
        "            new_node.next = self.top\n",
        "            self.top = new_node\n",
        "            self.minimum = value\n",
        "        else:\n",
        "            new_node = Node(value)\n",
        "            new_node.next = self.top\n",
        "            self.top = new_node\n",
        "        print(\"Number Inserted: {}\" .format(value))\n",
        " \n",
        "if __name__ == '__main__':\n",
        "   \n",
        "  stack = stack()\n",
        "\n",
        "stack.push(3)\n",
        "stack.push(5)\n",
        "stack.getMin()"
      ],
      "metadata": {
        "colab": {
          "base_uri": "https://localhost:8080/"
        },
        "id": "8fVsKP3Tkesk",
        "outputId": "68603a55-5315-4e31-e373-c568a58577c3"
      },
      "execution_count": 34,
      "outputs": [
        {
          "output_type": "stream",
          "name": "stdout",
          "text": [
            "Number Inserted: 3\n",
            "Number Inserted: 5\n",
            "Minimum Element in the stack is: 3\n"
          ]
        }
      ]
    }
  ]
}