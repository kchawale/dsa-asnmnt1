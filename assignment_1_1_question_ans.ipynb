{
  "nbformat": 4,
  "nbformat_minor": 0,
  "metadata": {
    "colab": {
      "provenance": [],
      "authorship_tag": "ABX9TyO3KCe7wpBzJrDjBx4YBY3g",
      "include_colab_link": true
    },
    "kernelspec": {
      "name": "python3",
      "display_name": "Python 3"
    },
    "language_info": {
      "name": "python"
    }
  },
  "cells": [
    {
      "cell_type": "markdown",
      "metadata": {
        "id": "view-in-github",
        "colab_type": "text"
      },
      "source": [
        "<a href=\"https://colab.research.google.com/github/kchawale/dsa-asnmnt1/blob/main/assignment_1_1_question_ans.ipynb\" target=\"_parent\"><img src=\"https://colab.research.google.com/assets/colab-badge.svg\" alt=\"Open In Colab\"/></a>"
      ]
    },
    {
      "cell_type": "markdown",
      "source": [],
      "metadata": {
        "id": "5vGPhdVTz-b4"
      }
    },
    {
      "cell_type": "markdown",
      "source": [
        "#1. Name four of the main data types in Python\n",
        "Numbers, strings, lists, dictionaries, tuples, files, and sets are generally considered the main types of data. \n",
        "Types, None, and Booleans are sometimes also classified this way. \n",
        "The integer, floating-point, complex, fraction and decimal are numerical data types.\n",
        " and simple strings and Unicode strings in Python 2 and text strings and byte strings in Python 3 are the types of string data types."
      ],
      "metadata": {
        "id": "hrS9g7LjzXj3"
      }
    },
    {
      "cell_type": "markdown",
      "source": [],
      "metadata": {
        "id": "2gFNnDwI0DWD"
      }
    },
    {
      "cell_type": "markdown",
      "source": [
        "# 2. What does immutable mean and what three types of Python core data types are considered immutable?\n",
        "An immutable data type is a type of object which cannot be modified after its creation. Numbers, strings, and tuples in Python fall into this category. Although you cannot modify an immutable object in place, you can always create a new one by running an expression."
      ],
      "metadata": {
        "id": "EgzUl6GF0I3T"
      }
    },
    {
      "cell_type": "markdown",
      "source": [],
      "metadata": {
        "id": "5rmJuP9Lz9Yf"
      }
    },
    {
      "cell_type": "markdown",
      "source": [
        "#3. What does mapping mean and what kind of data type is based on mapping?\n",
        "The term mapping refers to an object that maps keys to associated values. The Python dictionary is the only type of mapping in the base typeset. Mappings do not maintain any left-to-right position order; they support access to stored data by key, as well as type-specific method calls."
      ],
      "metadata": {
        "id": "Ai_-L0Lf0mwV"
      }
    },
    {
      "cell_type": "markdown",
      "source": [
        "#4. What is polymorphism and why should you care?\n",
        "Polymorphism means that the meaning of an operation (like a+) depends on the objects being operated. This turns out to be a key idea behind good use of Python, not coercing code to specific types makes that code automatically applied to many types."
      ],
      "metadata": {
        "id": "7oPsJavg0w-M"
      }
    },
    {
      "cell_type": "markdown",
      "source": [
        "# 5. Which Operator is used for assigning a value into a variable?\n",
        "Assignment Operators"
      ],
      "metadata": {
        "id": "4Unx5-Xi07Fs"
      }
    },
    {
      "cell_type": "markdown",
      "source": [
        "# 6. Which Operator is used for comparison of values?\n",
        "\n",
        "Logical Operators."
      ],
      "metadata": {
        "id": "nIhNEh6C2FSg"
      }
    },
    {
      "cell_type": "markdown",
      "source": [
        "# 7. What is the use of “= =” operator?\n",
        "\n",
        "It checks if the value of two operands are equal or not, if yes then condition becomes true"
      ],
      "metadata": {
        "id": "CRWHEH5M2Oru"
      }
    },
    {
      "cell_type": "markdown",
      "source": [
        "# 8. What is the use of \"//” operator?\n",
        "\n",
        "The \"//” operator results is the quotient in which the digits after the decimal point are removed."
      ],
      "metadata": {
        "id": "69fse3xi2fsx"
      }
    },
    {
      "cell_type": "markdown",
      "source": [
        "# 9. What does the continue do in python\n",
        "\n",
        "The continue is a jump statement in Python which moves the control to execute the next iteration in a loop leaving all the remaining instructions in the block unexecuted.\n",
        " \n",
        "The continue statement is applicable for both the “while” and “for” loops."
      ],
      "metadata": {
        "id": "yUHbW0nC3JA_"
      }
    },
    {
      "cell_type": "markdown",
      "source": [
        "# 10. Which looping statements are available in Python ?\n",
        "\n",
        "Looping statements are those which repeat the execution of a set of statements in a cyclic manner based on a condition.\n",
        "\n",
        "Python For\n",
        "\n",
        "Python While"
      ],
      "metadata": {
        "id": "hePUum9Y3TUr"
      }
    },
    {
      "cell_type": "markdown",
      "source": [
        "# 11. What is the syntax for Python If statement ?\n",
        "Python If statement contains if keyword, condition followed by colon symbol (:), and then the statements of if block with indentation.\n",
        "\n",
        "If ( EXPRESSION == TRUE ):\n",
        "\n",
        "     Block of code\n",
        "else:\n",
        "     \n",
        "     Block of code"
      ],
      "metadata": {
        "id": "awzaoz6I31mn"
      }
    },
    {
      "cell_type": "markdown",
      "source": [
        "# 12. What is the syntax for Python For loop ?\n",
        "for variable in sequence:\n",
        "\n",
        "    statement1\n",
        "    statement2\n",
        "    statementN"
      ],
      "metadata": {
        "id": "d8_2RyT44FT6"
      }
    },
    {
      "cell_type": "markdown",
      "source": [
        "# 13. What are the key features of Python?\n",
        "\n",
        "If it makes for an introductory language to programming, Python must mean something. These are its qualities:\n",
        "\n",
        "Interpreted\n",
        "\n",
        "Dynamically-typed\n",
        "\n",
        "Object-oriented\n",
        "\n",
        "Concise and simple\n",
        "\n",
        "Free\n",
        "\n",
        "Has a large community"
      ],
      "metadata": {
        "id": "R3zUD7DX4RFS"
      }
    },
    {
      "cell_type": "markdown",
      "source": [
        "# 14. How does a function return values?\n",
        "\n",
        "A function uses the ‘return’ keyword to return a value. \n",
        "\n",
        "Take a look:\n",
        "\n",
        "\n",
        "\n",
        "def add(a,b):\n",
        "\n",
        "return a+b"
      ],
      "metadata": {
        "id": "ER1kCiES5zaN"
      }
    },
    {
      "cell_type": "markdown",
      "source": [
        "# 15. Will the do-while loop work if you don’t end it with a semicolon?\n",
        "\n",
        "Trick question! Python does not support an intrinsic do-while loop. \n",
        "\n",
        "Secondly, to terminate do-while loops is a necessity for languages like C++."
      ],
      "metadata": {
        "id": "Oad0GIwO6Zfg"
      }
    },
    {
      "cell_type": "markdown",
      "source": [
        "# 16. Explain logical operators in Python.\n",
        "\n",
        "We have three logical operators- and, or, not.\n",
        "\n"
      ],
      "metadata": {
        "id": "b6l8T7Fm6rvf"
      }
    },
    {
      "cell_type": "markdown",
      "source": [
        "# 17. What are membership operators?\n",
        "\n",
        "With the operators ‘in’ and ‘not in’, we can confirm if a value is a member in another.\n",
        "\n"
      ],
      "metadata": {
        "id": "3p5-D5PN699c"
      }
    },
    {
      "cell_type": "markdown",
      "source": [
        "# 18.  What are lists and tuples? What is the key difference between the two?\n",
        "Lists and Tuples are both sequence data types that can store a collection of objects in Python. The objects stored in both sequences can have different data types. Lists are represented with square brackets ['sara', 6, 0.19], while tuples are represented with parantheses ('ansh', 5, 0.97).\n",
        "But what is the real difference between the two? The key difference between the two is that while lists are mutable, tuples on the other hand are immutable objects. This means that lists can be modified, appended or sliced on the go but tuples remain constant and cannot be modified in any manner. "
      ],
      "metadata": {
        "id": "-e5BRwfn7If8"
      }
    },
    {
      "cell_type": "markdown",
      "source": [
        "# 19. What is pass in Python?\n",
        "The pass keyword represents a null operation in Python. It is generally used for the purpose of filling up empty blocks of code which may execute during runtime but has yet to be written."
      ],
      "metadata": {
        "id": "OfTJb03z8F3K"
      }
    },
    {
      "cell_type": "markdown",
      "source": [
        "# 20. Explain split() and join() functions in Python?\n",
        "You can use split() function to split a string based on a delimiter to a list of strings.\n",
        "\n",
        "You can use join() function to join a list of strings based on a delimiter to give a single string."
      ],
      "metadata": {
        "id": "3z_gbkEF8R3I"
      }
    }
  ]
}